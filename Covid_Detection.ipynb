{
 "cells": [
  {
   "cell_type": "markdown",
   "metadata": {
    "id": "DgCB_DZTNINC"
   },
   "source": [
    "### Downloading the dataset from the following link \"http://cb.lk/covid_19\""
   ]
  },
  {
   "cell_type": "code",
   "execution_count": 1,
   "metadata": {
    "colab": {
     "base_uri": "https://localhost:8080/"
    },
    "id": "ef1Ls1-AMSrH",
    "outputId": "728bbe88-6f0a-4d02-d3ab-56c17033e6cb"
   },
   "outputs": [
    {
     "name": "stdout",
     "output_type": "stream",
     "text": [
      "--2021-09-16 14:07:08--  http://cb.lk/covid_19\n",
      "Resolving cb.lk (cb.lk)... 2606:4700:3031::6815:48cb, 2606:4700:3032::ac43:bb51, 172.67.187.81, ...\n",
      "Connecting to cb.lk (cb.lk)|2606:4700:3031::6815:48cb|:80... connected.\n",
      "HTTP request sent, awaiting response... 301 Moved Permanently\n",
      "Location: https://cb.lk/covid_19 [following]\n",
      "--2021-09-16 14:07:08--  https://cb.lk/covid_19\n",
      "Connecting to cb.lk (cb.lk)|2606:4700:3031::6815:48cb|:443... connected.\n",
      "HTTP request sent, awaiting response... 302 Found\n",
      "Location: https://www.dropbox.com/s/7rjw6oet4za01op/CovidDataset-20200427T133042Z-001.zip?dl=0 [following]\n",
      "--2021-09-16 14:07:09--  https://www.dropbox.com/s/7rjw6oet4za01op/CovidDataset-20200427T133042Z-001.zip?dl=0\n",
      "Resolving www.dropbox.com (www.dropbox.com)... 2620:100:6019:18::a27d:412, 162.125.4.18\n",
      "Connecting to www.dropbox.com (www.dropbox.com)|2620:100:6019:18::a27d:412|:443... connected.\n",
      "HTTP request sent, awaiting response... 301 Moved Permanently\n",
      "Location: /s/raw/7rjw6oet4za01op/CovidDataset-20200427T133042Z-001.zip [following]\n",
      "--2021-09-16 14:07:09--  https://www.dropbox.com/s/raw/7rjw6oet4za01op/CovidDataset-20200427T133042Z-001.zip\n",
      "Reusing existing connection to [www.dropbox.com]:443.\n",
      "HTTP request sent, awaiting response... 302 Found\n",
      "Location: https://ucd7a48d146d5013913edc1bde43.dl.dropboxusercontent.com/cd/0/inline/BWTlBIdoV4b6PERyBLkmHKM9CeHRPzkKJCLbekgM030s4yDAcUHPp7JFfTbevlCHyUq1Ua41N1zoYTRkfY1cZjdmPdEIoUMfaWIPkrxZF4zbIW2k-FeezHRFqKOY-_WU3ntIGW5YrIhCre4PU4DdocQz/file# [following]\n",
      "--2021-09-16 14:07:09--  https://ucd7a48d146d5013913edc1bde43.dl.dropboxusercontent.com/cd/0/inline/BWTlBIdoV4b6PERyBLkmHKM9CeHRPzkKJCLbekgM030s4yDAcUHPp7JFfTbevlCHyUq1Ua41N1zoYTRkfY1cZjdmPdEIoUMfaWIPkrxZF4zbIW2k-FeezHRFqKOY-_WU3ntIGW5YrIhCre4PU4DdocQz/file\n",
      "Resolving ucd7a48d146d5013913edc1bde43.dl.dropboxusercontent.com (ucd7a48d146d5013913edc1bde43.dl.dropboxusercontent.com)... 2620:100:6019:15::a27d:40f, 162.125.4.15\n",
      "Connecting to ucd7a48d146d5013913edc1bde43.dl.dropboxusercontent.com (ucd7a48d146d5013913edc1bde43.dl.dropboxusercontent.com)|2620:100:6019:15::a27d:40f|:443... connected.\n",
      "HTTP request sent, awaiting response... 302 Found\n",
      "Location: /cd/0/inline2/BWSC1FD0uQ7VJzPgafOLrkWLgd54PWZdvTNOSukao6s9_x0uMo2HbXWIvaNyX26MDsaFAbu7w_UOD8oFCBkLGURLzMlvgaN26b3a3yZwI1_lK9rT9OeHQuJxB_ivb5RgujkNbEjbtrYbDnXmD3Oi7tT7gsB1r5L76U3RQMsKVei0ZtaU9m7C6G9kVsyh-o8VAhnCpsu_99ngyTPZQiegRQjbBa2s74sFaiSHFKK8zIS7gMFPQrl13F6WT9raPIbiBJgK0pwSFXJjzzI_8W1bk5XRhaBU51bP8eOu4V1DISc0uO6h3aAsD0i5Oma0FyWDceLSLDNqJVf8jiWB5hzltR1o-wG_B1KH_YX47uhez9oJPa2W9FQxfOPRO_EqeMtE5XY/file [following]\n",
      "--2021-09-16 14:07:10--  https://ucd7a48d146d5013913edc1bde43.dl.dropboxusercontent.com/cd/0/inline2/BWSC1FD0uQ7VJzPgafOLrkWLgd54PWZdvTNOSukao6s9_x0uMo2HbXWIvaNyX26MDsaFAbu7w_UOD8oFCBkLGURLzMlvgaN26b3a3yZwI1_lK9rT9OeHQuJxB_ivb5RgujkNbEjbtrYbDnXmD3Oi7tT7gsB1r5L76U3RQMsKVei0ZtaU9m7C6G9kVsyh-o8VAhnCpsu_99ngyTPZQiegRQjbBa2s74sFaiSHFKK8zIS7gMFPQrl13F6WT9raPIbiBJgK0pwSFXJjzzI_8W1bk5XRhaBU51bP8eOu4V1DISc0uO6h3aAsD0i5Oma0FyWDceLSLDNqJVf8jiWB5hzltR1o-wG_B1KH_YX47uhez9oJPa2W9FQxfOPRO_EqeMtE5XY/file\n",
      "Reusing existing connection to [ucd7a48d146d5013913edc1bde43.dl.dropboxusercontent.com]:443.\n",
      "HTTP request sent, awaiting response... 200 OK\n",
      "Length: 140830621 (134M) [application/zip]\n",
      "Saving to: ‘covid_19’\n",
      "\n",
      "covid_19            100%[===================>] 134.31M  26.2MB/s    in 5.3s    \n",
      "\n",
      "2021-09-16 14:07:16 (25.4 MB/s) - ‘covid_19’ saved [140830621/140830621]\n",
      "\n"
     ]
    }
   ],
   "source": [
    "!wget http://cb.lk/covid_19"
   ]
  },
  {
   "cell_type": "markdown",
   "metadata": {
    "id": "W-BbSUNPNbGK"
   },
   "source": [
    "### Extracting Compressed Data"
   ]
  },
  {
   "cell_type": "code",
   "execution_count": 2,
   "metadata": {
    "colab": {
     "base_uri": "https://localhost:8080/"
    },
    "id": "OkXW7rWfMeB-",
    "outputId": "455ff8c7-ed9b-4419-c973-42afefdf0393"
   },
   "outputs": [
    {
     "name": "stdout",
     "output_type": "stream",
     "text": [
      "Archive:  covid_19\n",
      "  inflating: CovidDataset/Val/Covid/88de9d8c39e946abd495b37cd07d89e5-6531-0.jpg  \n",
      "  inflating: CovidDataset/Val/Covid/covid-19-pneumonia-8.jpg  \n",
      "  inflating: CovidDataset/Val/Covid/85E52EB3-56E9-4D67-82DA-DEA247C82886.jpeg  \n",
      "  inflating: CovidDataset/Val/Covid/4-x-day1.jpg  \n",
      "  inflating: CovidDataset/Val/Covid/covid-19-pneumonia-53.jpg  \n",
      "  inflating: CovidDataset/Val/Covid/4e43e48d52c9e2d4c6c1fb9bc1544f_jumbo.jpeg  \n",
      "  inflating: CovidDataset/Val/Covid/covid-19-pneumonia-35-1.jpg  \n",
      "  inflating: CovidDataset/Val/Covid/53EC07C9-5CC6-4BE4-9B6F-D7B0D72AAA7E.jpeg  \n",
      "  inflating: CovidDataset/Val/Covid/6CB4EFC6-68FA-4CD5-940C-BEFA8DAFE9A7.jpeg  \n",
      "  inflating: CovidDataset/Val/Covid/58cb9263f16e94305c730685358e4e_jumbo.jpeg  \n",
      "  inflating: CovidDataset/Val/Covid/6b3bdbc31f65230b8cdcc3cef5f8ba8a-40ac-0.jpg  \n",
      "  inflating: CovidDataset/Val/Covid/auntminnie-d-2020_01_28_23_51_6665_2020_01_28_Vietnam_coronavirus.jpeg  \n",
      "  inflating: CovidDataset/Val/Covid/6b44464d-73a7-4cf3-bbb6-ffe7168300e3.annot.original.jpeg  \n",
      "  inflating: CovidDataset/Val/Covid/88de9d8c39e946abd495b37cd07d89e5-2ee6-0.jpg  \n",
      "  inflating: CovidDataset/Val/Covid/31BA3780-2323-493F-8AED-62081B9C383B.jpeg  \n",
      "  inflating: CovidDataset/Val/Covid/B2D20576-00B7-4519-A415-72DE29C90C34.jpeg  \n",
      "  inflating: CovidDataset/Val/Covid/6C94A287-C059-46A0-8600-AFB95F4727B7.jpeg  \n",
      "  inflating: CovidDataset/Train/Covid/1-s2.0-S1684118220300682-main.pdf-003-b2.png  \n",
      "  inflating: CovidDataset/Val/Covid/41591_2020_819_Fig1_HTML.webp-day5.png  \n",
      "  inflating: CovidDataset/Val/Covid/41591_2020_819_Fig1_HTML.webp-day10.png  \n",
      "  inflating: CovidDataset/Train/Covid/1-s2.0-S1684118220300682-main.pdf-003-b1.png  \n",
      "  inflating: CovidDataset/Val/Covid/16654_2_1.jpg  \n",
      "  inflating: CovidDataset/Train/Covid/nCoV-radiol.2020200269.fig1-day7.jpeg  \n",
      "  inflating: CovidDataset/Val/Covid/auntminnie-c-2020_01_28_23_51_6665_2020_01_28_Vietnam_coronavirus.jpeg  \n",
      "  inflating: CovidDataset/Train/Covid/7-fatal-covid19.jpg  \n",
      "  inflating: CovidDataset/Train/Covid/auntminnie-b-2020_01_28_23_51_6665_2020_01_28_Vietnam_coronavirus.jpeg  \n",
      "  inflating: CovidDataset/Train/Normal/NORMAL2-IM-0986-0001.jpeg  \n",
      "  inflating: CovidDataset/Train/Normal/IM-0332-0001.jpeg  \n",
      "  inflating: CovidDataset/Train/Covid/extubation-13.jpg  \n",
      "  inflating: CovidDataset/Val/Covid/covid-19-pneumonia-35-2.jpg  \n",
      "  inflating: CovidDataset/Train/Normal/NORMAL2-IM-1337-0001.jpeg  \n",
      "  inflating: CovidDataset/Val/Covid/covid-19-pneumonia-12.jpg  \n",
      "  inflating: CovidDataset/Train/Normal/IM-0644-0001-0002.jpeg  \n",
      "  inflating: CovidDataset/Train/Covid/ryct.2020200034.fig5-day7.jpeg  \n",
      "  inflating: CovidDataset/Val/Covid/7AF6C1AF-D249-4BD2-8C26-449304105D03.jpeg  \n",
      "  inflating: CovidDataset/Train/Covid/covid-19-pneumonia-15-PA.jpg  \n",
      "  inflating: CovidDataset/Train/Covid/1-s2.0-S1684118220300608-main.pdf-002.jpg  \n",
      "  inflating: CovidDataset/Train/Normal/IM-0528-0001.jpeg  \n",
      "  inflating: CovidDataset/Train/Covid/80446565-E090-4187-A031-9D3CEAA586C8.jpeg  \n",
      "  inflating: CovidDataset/Train/Covid/1-s2.0-S0929664620300449-gr2_lrg-d.jpg  \n",
      "  inflating: CovidDataset/Train/Covid/covid-19-pneumonia-bilateral.jpg  \n",
      "  inflating: CovidDataset/Train/Normal/NORMAL2-IM-1020-0001-0001.jpeg  \n",
      "  inflating: CovidDataset/Train/Covid/E63574A7-4188-4C8D-8D17-9D67A18A1AFA.jpeg  \n",
      "  inflating: CovidDataset/Train/Normal/IM-0327-0001.jpeg  \n",
      "  inflating: CovidDataset/Train/Covid/AR-1.jpg  \n",
      "  inflating: CovidDataset/Train/Covid/F2DE909F-E19C-4900-92F5-8F435B031AC6.jpeg  \n",
      "  inflating: CovidDataset/Val/Normal/NORMAL2-IM-0851-0001.jpeg  \n",
      "  inflating: CovidDataset/Train/Covid/covid-19-pneumonia-2.jpg  \n",
      "  inflating: CovidDataset/Train/Normal/IM-0539-0001.jpeg  \n",
      "  inflating: CovidDataset/Train/Normal/IM-0495-0001.jpeg  \n",
      "  inflating: CovidDataset/Train/Normal/IM-0533-0001-0002.jpeg  \n",
      "  inflating: CovidDataset/Train/Normal/IM-0724-0001.jpeg  \n",
      "  inflating: CovidDataset/Train/Covid/1.CXRCTThoraximagesofCOVID-19fromSingapore.pdf-001-fig2a.png  \n",
      "  inflating: CovidDataset/Train/Covid/1-s2.0-S0140673620303706-fx1_lrg.jpg  \n",
      "  inflating: CovidDataset/Train/Normal/IM-0491-0001-0002.jpeg  \n",
      "  inflating: CovidDataset/Train/Covid/covid-19-pneumonia-58-day-9.jpg  \n",
      "  inflating: CovidDataset/Train/Normal/IM-0555-0001.jpeg  \n",
      "  inflating: CovidDataset/Train/Covid/1.CXRCTThoraximagesofCOVID-19fromSingapore.pdf-000-fig1b.png  \n",
      "  inflating: CovidDataset/Train/Normal/IM-0326-0001.jpeg  \n",
      "  inflating: CovidDataset/Train/Covid/covid-19-caso-70-1-PA.jpg  \n",
      "  inflating: CovidDataset/Train/Covid/1.CXRCTThoraximagesofCOVID-19fromSingapore.pdf-001-fig2b.png  \n",
      "  inflating: CovidDataset/Val/Normal/NORMAL2-IM-0730-0001.jpeg  \n",
      "  inflating: CovidDataset/Train/Normal/IM-0451-0001.jpeg  \n",
      "  inflating: CovidDataset/Val/Covid/7C69C012-7479-493F-8722-ABC29C60A2DD.jpeg  \n",
      "  inflating: CovidDataset/Train/Covid/16660_2_1.jpg  \n",
      "  inflating: CovidDataset/Train/Covid/1-s2.0-S1684118220300608-main.pdf-001.jpg  \n",
      "  inflating: CovidDataset/Train/Covid/kjr-21-e24-g003-l-a.jpg  \n",
      "  inflating: CovidDataset/Train/Covid/nejmoa2001191_f1-PA.jpeg  \n",
      "  inflating: CovidDataset/Train/Normal/IM-0534-0001.jpeg  \n",
      "  inflating: CovidDataset/Train/Covid/kjr-21-e24-g002-l-a.jpg  \n",
      "  inflating: CovidDataset/Train/Covid/covid-19-pneumonia-38-pa.jpg  \n",
      "  inflating: CovidDataset/Train/Normal/NORMAL2-IM-0529-0001.jpeg  \n",
      "  inflating: CovidDataset/Train/Covid/9C34AF49-E589-44D5-92D3-168B3B04E4A6.jpeg  \n",
      "  inflating: CovidDataset/Train/Normal/IM-0221-0001.jpeg  \n",
      "  inflating: CovidDataset/Val/Normal/NORMAL2-IM-1191-0001.jpeg  \n",
      "  inflating: CovidDataset/Train/Normal/NORMAL2-IM-0831-0001.jpeg  \n",
      "  inflating: CovidDataset/Train/Normal/IM-0500-0001.jpeg  \n",
      "  inflating: CovidDataset/Val/Normal/NORMAL2-IM-1228-0001.jpeg  \n",
      "  inflating: CovidDataset/Train/Covid/extubation-1.jpg  \n",
      "  inflating: CovidDataset/Train/Covid/covid-19-infection-exclusive-gastrointestinal-symptoms-l.png  \n",
      "  inflating: CovidDataset/Val/Normal/NORMAL2-IM-1037-0001.jpeg  \n",
      "  inflating: CovidDataset/Train/Normal/NORMAL2-IM-0956-0001.jpeg  \n",
      "  inflating: CovidDataset/Train/Normal/NORMAL2-IM-0847-0001.jpeg  \n",
      "  inflating: CovidDataset/Train/Normal/IM-0389-0001.jpeg  \n",
      "  inflating: CovidDataset/Train/Normal/IM-0660-0001-0001.jpeg  \n",
      "  inflating: CovidDataset/Train/Covid/16672_1_1.jpg  \n",
      "  inflating: CovidDataset/Train/Normal/IM-0700-0001.jpeg  \n",
      "  inflating: CovidDataset/Train/Normal/NORMAL2-IM-1305-0001.jpeg  \n",
      "  inflating: CovidDataset/Train/Covid/16660_4_1.jpg  \n",
      "  inflating: CovidDataset/Val/Covid/353889E0-A1E8-4F9E-A0B8-F24F36BCFBFB.jpeg  \n",
      "  inflating: CovidDataset/Train/Covid/covid-19-pneumonia-22-day2-pa.png  \n",
      "  inflating: CovidDataset/Train/Normal/IM-0472-0001.jpeg  \n",
      "  inflating: CovidDataset/Train/Normal/NORMAL2-IM-1202-0001.jpeg  \n",
      "  inflating: CovidDataset/Train/Normal/NORMAL2-IM-1188-0001.jpeg  \n",
      "  inflating: CovidDataset/Train/Covid/2C26F453-AF3B-4517-BB9E-802CF2179543.jpeg  \n",
      "  inflating: CovidDataset/Train/Normal/NORMAL2-IM-1290-0001.jpeg  \n",
      "  inflating: CovidDataset/Train/Normal/NORMAL2-IM-1346-0001.jpeg  \n",
      "  inflating: CovidDataset/Train/Normal/NORMAL2-IM-1345-0001-0001.jpeg  \n",
      "  inflating: CovidDataset/Train/Covid/radiol.2020200274.fig3d.png  \n",
      "  inflating: CovidDataset/Train/Normal/IM-0669-0001.jpeg  \n",
      "  inflating: CovidDataset/Train/Normal/IM-0270-0001.jpeg  \n",
      "  inflating: CovidDataset/Train/Covid/covid-19-pneumonia-28.png  \n",
      "  inflating: CovidDataset/Train/Covid/ryct.2020200034.fig2.jpeg  \n",
      "  inflating: CovidDataset/Train/Normal/NORMAL2-IM-1287-0001.jpeg  \n",
      "  inflating: CovidDataset/Train/Covid/1.CXRCTThoraximagesofCOVID-19fromSingapore.pdf-000-fig1a.png  \n",
      "  inflating: CovidDataset/Train/Normal/NORMAL2-IM-0626-0001.jpeg  \n",
      "  inflating: CovidDataset/Train/Normal/IM-0543-0001.jpeg  \n",
      "  inflating: CovidDataset/Val/Normal/NORMAL2-IM-0857-0001.jpeg  \n",
      "  inflating: CovidDataset/Val/Normal/NORMAL2-IM-0905-0001.jpeg  \n",
      "  inflating: CovidDataset/Train/Covid/1-s2.0-S0929664620300449-gr2_lrg-a.jpg  \n",
      "  inflating: CovidDataset/Val/Covid/16654_1_1.png  \n",
      "  inflating: CovidDataset/Train/Covid/kjr-21-e24-g001-l-a.jpg  \n",
      "  inflating: CovidDataset/Train/Normal/IM-0433-0001.jpeg  \n",
      "  inflating: CovidDataset/Train/Covid/covid-19-pneumonia-58-day-10.jpg  \n",
      "  inflating: CovidDataset/Val/Covid/16654_4_1.jpg  \n",
      "  inflating: CovidDataset/Val/Normal/NORMAL2-IM-0790-0001.jpeg  \n",
      "  inflating: CovidDataset/Train/Normal/NORMAL2-IM-1326-0001.jpeg  \n",
      "  inflating: CovidDataset/Train/Normal/IM-0563-0001.jpeg  \n",
      "  inflating: CovidDataset/Train/Covid/ae6c954c0039de4b5edee53865ffee43-e6c8-0.jpg  \n",
      "  inflating: CovidDataset/Val/Covid/23E99E2E-447C-46E5-8EB2-D35D12473C39.png  \n",
      "  inflating: CovidDataset/Train/Covid/gr1_lrg-a.jpg  \n"
     ]
    },
    {
     "name": "stdout",
     "output_type": "stream",
     "text": [
      "  inflating: CovidDataset/Train/Normal/IM-0564-0001.jpeg  \n",
      "  inflating: CovidDataset/Train/Normal/NORMAL2-IM-0499-0001.jpeg  \n",
      "  inflating: CovidDataset/Train/Covid/16663_1_1.jpg  \n",
      "  inflating: CovidDataset/Train/Covid/extubation-8.jpg  \n",
      "  inflating: CovidDataset/Train/Covid/paving.jpg  \n",
      "  inflating: CovidDataset/Train/Normal/IM-0529-0001.jpeg  \n",
      "  inflating: CovidDataset/Train/Normal/IM-0425-0001.jpeg  \n",
      "  inflating: CovidDataset/Train/Normal/IM-0439-0001.jpeg  \n",
      "  inflating: CovidDataset/Train/Normal/IM-0491-0001.jpeg  \n",
      "  inflating: CovidDataset/Train/Normal/IM-0337-0001.jpeg  \n",
      "  inflating: CovidDataset/Train/Covid/all14238-fig-0001-m-b.jpg  \n",
      "  inflating: CovidDataset/Train/Covid/covid-19-infection-exclusive-gastrointestinal-symptoms-pa.png  \n",
      "  inflating: CovidDataset/Train/Normal/NORMAL2-IM-1320-0001.jpeg  \n",
      "  inflating: CovidDataset/Train/Covid/1.CXRCTThoraximagesofCOVID-19fromSingapore.pdf-002-fig3b.png  \n",
      "  inflating: CovidDataset/Train/Normal/NORMAL2-IM-0815-0001.jpeg  \n",
      "  inflating: CovidDataset/Train/Covid/nejmoa2001191_f5-PA.jpeg  \n",
      "  inflating: CovidDataset/Train/Normal/NORMAL2-IM-1336-0001.jpeg  \n",
      "  inflating: CovidDataset/Train/Normal/IM-0369-0001.jpeg  \n",
      "  inflating: CovidDataset/Train/Normal/NORMAL2-IM-1300-0001.jpeg  \n",
      "  inflating: CovidDataset/Train/Normal/NORMAL2-IM-1295-0001.jpeg  \n",
      "  inflating: CovidDataset/Train/Normal/NORMAL2-IM-0518-0001.jpeg  \n",
      "  inflating: CovidDataset/Train/Covid/covid-19-pneumonia-34.png  \n",
      "  inflating: CovidDataset/Train/Normal/IM-0385-0001.jpeg  \n",
      "  inflating: CovidDataset/Train/Covid/F63AB6CE-1968-4154-A70F-913AF154F53D.jpeg  \n",
      "  inflating: CovidDataset/Val/Normal/NORMAL2-IM-0842-0001.jpeg  \n",
      "  inflating: CovidDataset/Val/Normal/NORMAL2-IM-0416-0001-0001.jpeg  \n",
      "  inflating: CovidDataset/Val/Normal/NORMAL2-IM-1275-0001.jpeg  \n",
      "  inflating: CovidDataset/Train/Normal/IM-0467-0001.jpeg  \n",
      "  inflating: CovidDataset/Train/Normal/NORMAL2-IM-1344-0001.jpeg  \n",
      "  inflating: CovidDataset/Train/Normal/IM-0301-0001.jpeg  \n",
      "  inflating: CovidDataset/Train/Normal/IM-0421-0001.jpeg  \n",
      "  inflating: CovidDataset/Train/Covid/ryct.2020200034.fig5-day0.jpeg  \n",
      "  inflating: CovidDataset/Train/Covid/covid-19-pneumonia-58-day-3.jpg  \n",
      "  inflating: CovidDataset/Train/Covid/covid-19-pneumonia-mild.JPG  \n",
      "  inflating: CovidDataset/Val/Normal/NORMAL2-IM-0859-0001.jpeg  \n",
      "  inflating: CovidDataset/Val/Normal/NORMAL2-IM-1237-0001.jpeg  \n",
      "  inflating: CovidDataset/Train/Normal/NORMAL2-IM-1103-0001-0001.jpeg  \n",
      "  inflating: CovidDataset/Train/Covid/1-s2.0-S1684118220300682-main.pdf-002-a2.png  \n",
      "  inflating: CovidDataset/Val/Normal/NORMAL2-IM-0535-0001-0002.jpeg  \n",
      "  inflating: CovidDataset/Train/Covid/1.CXRCTThoraximagesofCOVID-19fromSingapore.pdf-003-fig4b.png  \n",
      "  inflating: CovidDataset/Train/Normal/IM-0461-0001.jpeg  \n",
      "  inflating: CovidDataset/Train/Normal/IM-0372-0001.jpeg  \n",
      "  inflating: CovidDataset/Train/Normal/IM-0666-0001-0001.jpeg  \n",
      "  inflating: CovidDataset/Train/Normal/NORMAL2-IM-0840-0001.jpeg  \n",
      "  inflating: CovidDataset/Train/Covid/ryct.2020200034.fig5-day4.jpeg  \n",
      "  inflating: CovidDataset/Train/Normal/NORMAL2-IM-0798-0001.jpeg  \n",
      "  inflating: CovidDataset/Train/Normal/IM-0351-0001.jpeg  \n",
      "  inflating: CovidDataset/Train/Covid/auntminnie-a-2020_01_28_23_51_6665_2020_01_28_Vietnam_coronavirus.jpeg  \n",
      "  inflating: CovidDataset/Train/Covid/1-s2.0-S1684118220300682-main.pdf-002-a1.png  \n",
      "  inflating: CovidDataset/Val/Normal/NORMAL2-IM-1240-0001.jpeg  \n",
      "  inflating: CovidDataset/Train/Covid/93FE0BB1-022D-4F24-9727-987A07975FFB.jpeg  \n",
      "  inflating: CovidDataset/Train/Covid/16660_1_1.jpg  \n",
      "  inflating: CovidDataset/Train/Covid/figure1-5e71be566aa8714a04de3386-98-left.jpeg  \n",
      "  inflating: CovidDataset/Train/Normal/IM-0703-0001.jpeg  \n",
      "  inflating: CovidDataset/Train/Covid/covid-19-pneumonia-7-PA.jpg  \n",
      "  inflating: CovidDataset/Train/Normal/NORMAL2-IM-1277-0001-0002.jpeg  \n",
      "  inflating: CovidDataset/Train/Covid/8FDE8DBA-CFBD-4B4C-B1A4-6F36A93B7E87.jpeg  \n",
      "  inflating: CovidDataset/Train/Normal/IM-0482-0001.jpeg  \n",
      "  inflating: CovidDataset/Train/Normal/IM-0656-0001-0002.jpeg  \n",
      "  inflating: CovidDataset/Train/Covid/16664_1_1.jpg  \n",
      "  inflating: CovidDataset/Train/Normal/IM-0430-0001.jpeg  \n",
      "  inflating: CovidDataset/Train/Covid/covid-19-pneumonia-67.jpeg  \n",
      "  inflating: CovidDataset/Train/Covid/ciaa199.pdf-001-a.png  \n",
      "  inflating: CovidDataset/Train/Normal/IM-0187-0001.jpeg  \n",
      "  inflating: CovidDataset/Val/Normal/NORMAL2-IM-0652-0001.jpeg  \n",
      "  inflating: CovidDataset/Train/Normal/IM-0691-0001.jpeg  \n",
      "  inflating: CovidDataset/Train/Covid/CD50BA96-6982-4C80-AE7B-5F67ACDBFA56.jpeg  \n",
      "  inflating: CovidDataset/Train/Normal/NORMAL2-IM-0976-0001.jpeg  \n",
      "  inflating: CovidDataset/Train/Covid/covid-19-pneumonia-20-pa-on-admission.jpg  \n",
      "  inflating: CovidDataset/Train/Covid/1-s2.0-S0929664620300449-gr2_lrg-c.jpg  \n",
      "  inflating: CovidDataset/Train/Covid/fff49165-b22d-4bb4-b9d1-d5d62c52436c.annot.original.png  \n",
      "  inflating: CovidDataset/Train/Covid/1.CXRCTThoraximagesofCOVID-19fromSingapore.pdf-002-fig3a.png  \n",
      "  inflating: CovidDataset/Val/Normal/NORMAL2-IM-0395-0001.jpeg  \n",
      "  inflating: CovidDataset/Train/Normal/IM-0182-0001.jpeg  \n",
      "  inflating: CovidDataset/Train/Covid/covid-19-pneumonia-evolution-over-a-week-1-day0-PA.jpg  \n",
      "  inflating: CovidDataset/Val/Normal/NORMAL2-IM-0914-0001.jpeg  \n",
      "  inflating: CovidDataset/Train/Covid/covid-19-pneumonia-30-PA.jpg  \n",
      "  inflating: CovidDataset/Train/Covid/nejmc2001573_f1a.jpeg  \n",
      "  inflating: CovidDataset/Train/Covid/kjr-21-e25-g001-l-a.jpg  \n",
      "  inflating: CovidDataset/Val/Normal/NORMAL2-IM-0873-0001.jpeg  \n",
      "  inflating: CovidDataset/Train/Normal/NORMAL2-IM-0501-0001.jpeg  \n",
      "  inflating: CovidDataset/Train/Normal/IM-0667-0001.jpeg  \n",
      "  inflating: CovidDataset/Train/Normal/IM-0551-0001-0002.jpeg  \n",
      "  inflating: CovidDataset/Train/Normal/IM-0176-0001.jpeg  \n",
      "  inflating: CovidDataset/Train/Covid/lancet-case2b.jpg  \n",
      "  inflating: CovidDataset/Train/Normal/IM-0713-0001.jpeg  \n",
      "  inflating: CovidDataset/Train/Covid/all14238-fig-0001-m-c.jpg  \n",
      "  inflating: CovidDataset/Val/Covid/covid-19-pneumonia-14-PA.png  \n",
      "  inflating: CovidDataset/Val/Normal/NORMAL2-IM-0851-0001-0001.jpeg  \n",
      "  inflating: CovidDataset/Train/Normal/NORMAL2-IM-1154-0001-0002.jpeg  \n",
      "  inflating: CovidDataset/Train/Normal/IM-0619-0001.jpeg  \n",
      "  inflating: CovidDataset/Val/Normal/NORMAL2-IM-0441-0001.jpeg  \n",
      "  inflating: CovidDataset/Val/Normal/NORMAL2-IM-0765-0001.jpeg  \n",
      "  inflating: CovidDataset/Train/Normal/IM-0172-0001.jpeg  \n",
      "  inflating: CovidDataset/Train/Normal/IM-0551-0001-0001.jpeg  \n",
      "  inflating: CovidDataset/Train/Covid/gr1_lrg-b.jpg  \n",
      "  inflating: CovidDataset/Train/Covid/1-s2.0-S0929664620300449-gr2_lrg-b.jpg  \n",
      "  inflating: CovidDataset/Train/Normal/IM-0514-0001.jpeg  \n",
      "  inflating: CovidDataset/Train/Covid/covid-19-pneumonia-20.jpg  \n",
      "  inflating: CovidDataset/Train/Normal/IM-0544-0001.jpeg  \n",
      "  inflating: CovidDataset/Val/Normal/NORMAL2-IM-1022-0001.jpeg  \n",
      "  inflating: CovidDataset/Train/Normal/NORMAL2-IM-0935-0001.jpeg  \n",
      "  inflating: CovidDataset/Train/Covid/covid-19-pneumonia-22-day1-pa.png  \n",
      "  inflating: CovidDataset/Train/Normal/NORMAL2-IM-1288-0001.jpeg  \n",
      "  inflating: CovidDataset/Train/Covid/16669_1_1.jpeg  \n",
      "  inflating: CovidDataset/Train/Covid/nejmoa2001191_f4.jpeg  \n",
      "  inflating: CovidDataset/Val/Normal/NORMAL2-IM-0462-0001.jpeg  \n",
      "  inflating: CovidDataset/Val/Normal/NORMAL2-IM-0894-0001.jpeg  \n",
      "  inflating: CovidDataset/Train/Covid/nejmc2001573_f1b.jpeg  \n",
      "  inflating: CovidDataset/Train/Normal/NORMAL2-IM-1094-0001-0001.jpeg  \n",
      "  inflating: CovidDataset/Train/Normal/IM-0543-0001-0002.jpeg  \n",
      "  inflating: CovidDataset/Train/Covid/16669_3_1.jpeg  \n",
      "  inflating: CovidDataset/Train/Covid/covid-19-pneumonia-58-day-7.jpg  \n",
      "  inflating: CovidDataset/Train/Normal/IM-0536-0001.jpeg  \n",
      "  inflating: CovidDataset/Train/Normal/NORMAL2-IM-1214-0001.jpeg  \n",
      "  inflating: CovidDataset/Train/Covid/AR-2.jpg  \n",
      "  inflating: CovidDataset/Train/Covid/9fdd3c3032296fd04d2cad5d9070d4_jumbo.jpeg  \n",
      "  inflating: CovidDataset/Train/Covid/1B734A89-A1BF-49A8-A1D3-66FAFA4FAC5D.jpeg  \n",
      "  inflating: CovidDataset/Train/Normal/IM-0156-0001.jpeg  \n",
      "  inflating: CovidDataset/Train/Normal/NORMAL2-IM-1111-0001.jpeg  \n",
      "  inflating: CovidDataset/Train/Covid/FE9F9A5D-2830-46F9-851B-1FF4534959BE.jpeg  \n",
      "  inflating: CovidDataset/Train/Normal/IM-0429-0001.jpeg  \n",
      "  inflating: CovidDataset/Train/Covid/covid-19-pneumonia-44-day-0.jpeg  \n",
      "  inflating: CovidDataset/Val/Normal/NORMAL2-IM-0869-0001.jpeg  \n"
     ]
    },
    {
     "name": "stdout",
     "output_type": "stream",
     "text": [
      "  inflating: CovidDataset/Train/Covid/figure1-5e75d0940b71e1b702629659-98-right.jpeg  \n",
      "  inflating: CovidDataset/Train/Covid/03BF7561-A9BA-4C3C-B8A0-D3E585F73F3C.jpeg  \n",
      "  inflating: CovidDataset/Train/Covid/ciaa199.pdf-001-c.png  \n",
      "  inflating: CovidDataset/Train/Covid/extubation-4.jpg  \n",
      "  inflating: CovidDataset/Train/Normal/IM-0556-0001.jpeg  \n",
      "  inflating: CovidDataset/Train/Covid/1.CXRCTThoraximagesofCOVID-19fromSingapore.pdf-003-fig4a.png  \n",
      "  inflating: CovidDataset/Train/Covid/covid-19-pneumonia-19.jpg  \n",
      "  inflating: CovidDataset/Train/Normal/IM-0392-0001.jpeg  \n",
      "  inflating: CovidDataset/Train/Normal/IM-0530-0001.jpeg  \n",
      "  inflating: CovidDataset/Train/Normal/IM-0261-0001.jpeg  \n",
      "  inflating: CovidDataset/Train/Covid/1312A392-67A3-4EBF-9319-810CF6DA5EF6.jpeg  \n",
      "  inflating: CovidDataset/Train/Normal/IM-0525-0001.jpeg  \n",
      "  inflating: CovidDataset/Train/Covid/lancet-case2a.jpg  \n",
      "  inflating: CovidDataset/Train/Covid/ciaa199.pdf-001-b.png  \n",
      "  inflating: CovidDataset/Train/Normal/NORMAL2-IM-0941-0001.jpeg  \n",
      "  inflating: CovidDataset/Train/Normal/IM-0488-0001.jpeg  \n",
      "  inflating: CovidDataset/Train/Covid/nejmoa2001191_f3-PA.jpeg  \n",
      "  inflating: CovidDataset/Train/Normal/IM-0447-0001.jpeg  \n",
      "  inflating: CovidDataset/Train/Covid/2966893D-5DDF-4B68-9E2B-4979D5956C8E.jpeg  \n",
      "  inflating: CovidDataset/Train/Covid/ryct.2020200028.fig1a.jpeg  \n",
      "  inflating: CovidDataset/Train/Normal/IM-0688-0001.jpeg  \n",
      "  inflating: CovidDataset/Train/Covid/16660_3_1.jpg  \n",
      "  inflating: CovidDataset/Val/Normal/NORMAL2-IM-1045-0001.jpeg  \n",
      "  inflating: CovidDataset/Train/Normal/NORMAL2-IM-0978-0001.jpeg  \n",
      "  inflating: CovidDataset/Train/Covid/2-chest-filmc.jpg  \n",
      "  inflating: CovidDataset/Val/Normal/NORMAL2-IM-0678-0001.jpeg  \n",
      "  inflating: CovidDataset/Train/Normal/NORMAL2-IM-0573-0001.jpeg  \n",
      "  inflating: CovidDataset/Train/Normal/IM-0365-0001.jpeg  \n",
      "  inflating: CovidDataset/Train/Normal/IM-0300-0001.jpeg  \n",
      "  inflating: CovidDataset/Train/Normal/IM-0242-0001.jpeg  \n",
      "  inflating: CovidDataset/Train/Covid/F4341CE7-73C9-45C6-99C8-8567A5484B63.jpeg  \n",
      "  inflating: CovidDataset/Train/Normal/NORMAL2-IM-1019-0001.jpeg  \n",
      "  inflating: CovidDataset/Train/Covid/01E392EE-69F9-4E33-BFCE-E5C968654078.jpeg  \n",
      "  inflating: CovidDataset/Train/Normal/IM-0648-0001.jpeg  \n",
      "  inflating: CovidDataset/Val/Normal/NORMAL2-IM-0408-0001.jpeg  \n",
      "  inflating: CovidDataset/Train/Covid/yxppt-2020-02-19_00-51-27_287214-day8.jpg  \n",
      "  inflating: CovidDataset/Train/Normal/IM-0635-0001.jpeg  \n",
      "  inflating: CovidDataset/Train/Covid/radiol.2020200490.fig3.jpeg  \n",
      "  inflating: CovidDataset/Val/Normal/NORMAL2-IM-1060-0001.jpeg  \n"
     ]
    }
   ],
   "source": [
    "!unzip covid_19"
   ]
  },
  {
   "cell_type": "markdown",
   "metadata": {
    "id": "2CFAy4WCOJOq"
   },
   "source": [
    "### Setting Training Path and Validation Path"
   ]
  },
  {
   "cell_type": "code",
   "execution_count": 3,
   "metadata": {
    "id": "7qFB2jy2NZbU"
   },
   "outputs": [],
   "source": [
    "train_path = \"/content/CovidDataset/Train\"\n",
    "validation_path = \"/content/CovidDataset/Val\""
   ]
  },
  {
   "cell_type": "markdown",
   "metadata": {
    "id": "g0jT_tX7OONg"
   },
   "source": [
    "### Importing Necessary Libraries"
   ]
  },
  {
   "cell_type": "code",
   "execution_count": 28,
   "metadata": {
    "id": "LFVyCtr7OHgE"
   },
   "outputs": [],
   "source": [
    "import numpy as np\n",
    "import matplotlib.pyplot as plt\n",
    "import os\n",
    "from tensorflow import keras\n",
    "from tensorflow.keras.layers import *\n",
    "from tensorflow.keras.models import *\n",
    "from tensorflow.keras.preprocessing import image\n",
    "from sklearn.metrics import confusion_matrix\n",
    "import seaborn as sns"
   ]
  },
  {
   "cell_type": "markdown",
   "metadata": {
    "id": "TOTXDNJf_hPz"
   },
   "source": [
    "### Image Preprocessing\n"
   ]
  },
  {
   "cell_type": "code",
   "execution_count": 8,
   "metadata": {
    "id": "r-FH0Kj8nJVD"
   },
   "outputs": [],
   "source": [
    "train_data_generator = image.ImageDataGenerator(\n",
    "    rescale =1./255,\n",
    "    shear_range = 0.2,\n",
    "    zoom_range = 0.2,\n",
    "    horizontal_flip = True,\n",
    ")\n",
    "\n",
    "test_data_generator = image.ImageDataGenerator(\n",
    "    rescale = 1./255,\n",
    ")"
   ]
  },
  {
   "cell_type": "code",
   "execution_count": 9,
   "metadata": {
    "colab": {
     "base_uri": "https://localhost:8080/"
    },
    "id": "cuWEVxW_p4Yc",
    "outputId": "3d4b3165-bae3-4a22-a665-8d647a75ca7e"
   },
   "outputs": [
    {
     "name": "stdout",
     "output_type": "stream",
     "text": [
      "Found 224 images belonging to 2 classes.\n"
     ]
    }
   ],
   "source": [
    "train_generator = train_data_generator.flow_from_directory(\n",
    "    'CovidDataset/Train',\n",
    "    target_size = (224,224),\n",
    "    batch_size = 32,\n",
    "    class_mode = 'binary',\n",
    ")"
   ]
  },
  {
   "cell_type": "code",
   "execution_count": 10,
   "metadata": {
    "colab": {
     "base_uri": "https://localhost:8080/"
    },
    "id": "OyoAzruGqdNP",
    "outputId": "298822cf-df3e-45fa-99f1-4274966efdbf"
   },
   "outputs": [
    {
     "data": {
      "text/plain": [
       "{'Covid': 0, 'Normal': 1}"
      ]
     },
     "execution_count": 10,
     "metadata": {},
     "output_type": "execute_result"
    }
   ],
   "source": [
    "train_generator.class_indices"
   ]
  },
  {
   "cell_type": "code",
   "execution_count": 11,
   "metadata": {
    "colab": {
     "base_uri": "https://localhost:8080/"
    },
    "id": "bPb2fbKdqj63",
    "outputId": "77f11fb2-61db-4b5c-fed8-51c11129f049"
   },
   "outputs": [
    {
     "name": "stdout",
     "output_type": "stream",
     "text": [
      "Found 60 images belonging to 2 classes.\n"
     ]
    }
   ],
   "source": [
    "test_generator = test_data_generator.flow_from_directory(\n",
    "    'CovidDataset/Val',\n",
    "    target_size = (224,224),\n",
    "    batch_size = 32,\n",
    "    class_mode = 'binary',\n",
    ")"
   ]
  },
  {
   "cell_type": "markdown",
   "metadata": {
    "id": "XZs1H-c2nNcH"
   },
   "source": [
    "### Building Convolutional Neural Network Model"
   ]
  },
  {
   "cell_type": "code",
   "execution_count": 12,
   "metadata": {
    "id": "4wIoiXt9O1UA"
   },
   "outputs": [],
   "source": [
    "model = Sequential()\n",
    "model.add(Conv2D(32,kernel_size=(3,3), activation='relu', input_shape = (224,224,3)))\n",
    "model.add(Conv2D(64,kernel_size=(3,3),activation='relu'))\n",
    "model.add(MaxPooling2D(pool_size=(2,2)))\n",
    "model.add(Dropout(0.25))\n",
    "\n",
    "model.add(Conv2D(64,kernel_size=(3,3),activation='relu'))\n",
    "model.add(MaxPooling2D(pool_size=(2,2)))\n",
    "model.add(Dropout(0.25))\n",
    "\n",
    "model.add(Conv2D(128,kernel_size=(3,3),activation='relu'))\n",
    "model.add(MaxPooling2D(pool_size=(2,2)))\n",
    "model.add(Dropout(0.25))\n",
    "\n",
    "model.add(Flatten())\n",
    "model.add(Dense(64,activation='relu'))\n",
    "model.add(Dropout(0.5))\n",
    "model.add(Dense(1,activation='sigmoid'))\n",
    "\n",
    "model.compile(loss=keras.losses.binary_crossentropy, optimizer='adam', metrics = ['accuracy'])"
   ]
  },
  {
   "cell_type": "code",
   "execution_count": 13,
   "metadata": {
    "colab": {
     "base_uri": "https://localhost:8080/"
    },
    "id": "nHQBlKJsnDbK",
    "outputId": "c29a99a2-5ade-42b0-c1ea-28df247bdbe7"
   },
   "outputs": [
    {
     "name": "stdout",
     "output_type": "stream",
     "text": [
      "Model: \"sequential\"\n",
      "_________________________________________________________________\n",
      "Layer (type)                 Output Shape              Param #   \n",
      "=================================================================\n",
      "conv2d (Conv2D)              (None, 222, 222, 32)      896       \n",
      "_________________________________________________________________\n",
      "conv2d_1 (Conv2D)            (None, 220, 220, 64)      18496     \n",
      "_________________________________________________________________\n",
      "max_pooling2d (MaxPooling2D) (None, 110, 110, 64)      0         \n",
      "_________________________________________________________________\n",
      "dropout (Dropout)            (None, 110, 110, 64)      0         \n",
      "_________________________________________________________________\n",
      "conv2d_2 (Conv2D)            (None, 108, 108, 64)      36928     \n",
      "_________________________________________________________________\n",
      "max_pooling2d_1 (MaxPooling2 (None, 54, 54, 64)        0         \n",
      "_________________________________________________________________\n",
      "dropout_1 (Dropout)          (None, 54, 54, 64)        0         \n",
      "_________________________________________________________________\n",
      "conv2d_3 (Conv2D)            (None, 52, 52, 128)       73856     \n",
      "_________________________________________________________________\n",
      "max_pooling2d_2 (MaxPooling2 (None, 26, 26, 128)       0         \n",
      "_________________________________________________________________\n",
      "dropout_2 (Dropout)          (None, 26, 26, 128)       0         \n",
      "_________________________________________________________________\n",
      "flatten (Flatten)            (None, 86528)             0         \n",
      "_________________________________________________________________\n",
      "dense (Dense)                (None, 64)                5537856   \n",
      "_________________________________________________________________\n",
      "dropout_3 (Dropout)          (None, 64)                0         \n",
      "_________________________________________________________________\n",
      "dense_1 (Dense)              (None, 1)                 65        \n",
      "=================================================================\n",
      "Total params: 5,668,097\n",
      "Trainable params: 5,668,097\n",
      "Non-trainable params: 0\n",
      "_________________________________________________________________\n"
     ]
    }
   ],
   "source": [
    "model.summary()"
   ]
  },
  {
   "cell_type": "code",
   "execution_count": 14,
   "metadata": {
    "colab": {
     "base_uri": "https://localhost:8080/"
    },
    "id": "y3qg8yjmrisn",
    "outputId": "609b0c4f-92e7-4cd8-a748-2a96cca5d488"
   },
   "outputs": [
    {
     "name": "stdout",
     "output_type": "stream",
     "text": [
      "Epoch 1/10\n",
      "7/7 [==============================] - 43s 6s/step - loss: 0.8550 - accuracy: 0.4955 - val_loss: 0.6860 - val_accuracy: 0.8500\n",
      "Epoch 2/10\n",
      "7/7 [==============================] - 46s 6s/step - loss: 0.6382 - accuracy: 0.6205 - val_loss: 0.6152 - val_accuracy: 0.8500\n",
      "Epoch 3/10\n",
      "7/7 [==============================] - 35s 5s/step - loss: 0.4910 - accuracy: 0.7545 - val_loss: 0.3730 - val_accuracy: 0.9333\n",
      "Epoch 4/10\n",
      "7/7 [==============================] - 33s 5s/step - loss: 0.2671 - accuracy: 0.8884 - val_loss: 0.2387 - val_accuracy: 0.9667\n",
      "Epoch 5/10\n",
      "7/7 [==============================] - 34s 5s/step - loss: 0.1796 - accuracy: 0.9420 - val_loss: 0.0967 - val_accuracy: 0.9833\n",
      "Epoch 6/10\n",
      "7/7 [==============================] - 34s 5s/step - loss: 0.1462 - accuracy: 0.9464 - val_loss: 0.0837 - val_accuracy: 0.9667\n",
      "Epoch 7/10\n",
      "7/7 [==============================] - 33s 5s/step - loss: 0.1402 - accuracy: 0.9598 - val_loss: 0.0593 - val_accuracy: 0.9833\n",
      "Epoch 8/10\n",
      "7/7 [==============================] - 33s 5s/step - loss: 0.1827 - accuracy: 0.9375 - val_loss: 0.0815 - val_accuracy: 0.9667\n",
      "Epoch 9/10\n",
      "7/7 [==============================] - 33s 5s/step - loss: 0.1852 - accuracy: 0.9286 - val_loss: 0.1897 - val_accuracy: 0.9167\n",
      "Epoch 10/10\n",
      "7/7 [==============================] - 34s 5s/step - loss: 0.1821 - accuracy: 0.9420 - val_loss: 0.0908 - val_accuracy: 0.9667\n"
     ]
    }
   ],
   "source": [
    "hist = model.fit(\n",
    "    train_generator,\n",
    "    steps_per_epoch = len(train_generator.classes)//train_generator.batch_size,\n",
    "    epochs = 10,\n",
    "    validation_data = test_generator,\n",
    "    validation_steps = 2,\n",
    ")"
   ]
  },
  {
   "cell_type": "code",
   "execution_count": 15,
   "metadata": {
    "id": "E9eKqq4YsZgg"
   },
   "outputs": [],
   "source": [
    "model.save(\"covid_detection.h5\")"
   ]
  },
  {
   "cell_type": "markdown",
   "metadata": {
    "id": "CBh4Y25h_Ovg"
   },
   "source": [
    "### Model Evaluation Metrics\n"
   ]
  },
  {
   "cell_type": "code",
   "execution_count": 16,
   "metadata": {
    "colab": {
     "base_uri": "https://localhost:8080/"
    },
    "id": "0fvzHe4H9wG5",
    "outputId": "1268779e-c325-479a-c06d-9c89e371b427"
   },
   "outputs": [
    {
     "name": "stdout",
     "output_type": "stream",
     "text": [
      "7/7 [==============================] - 13s 2s/step - loss: 0.0962 - accuracy: 0.9821\n"
     ]
    },
    {
     "data": {
      "text/plain": [
       "[0.09620904177427292, 0.9821428656578064]"
      ]
     },
     "execution_count": 16,
     "metadata": {},
     "output_type": "execute_result"
    }
   ],
   "source": [
    "model.evaluate(train_generator)"
   ]
  },
  {
   "cell_type": "code",
   "execution_count": 17,
   "metadata": {
    "colab": {
     "base_uri": "https://localhost:8080/"
    },
    "id": "YosMHLOy90w1",
    "outputId": "4a0ce71c-2e89-4aa5-deac-a711f4cb7afc"
   },
   "outputs": [
    {
     "name": "stdout",
     "output_type": "stream",
     "text": [
      "2/2 [==============================] - 3s 1s/step - loss: 0.0908 - accuracy: 0.9667\n"
     ]
    },
    {
     "data": {
      "text/plain": [
       "[0.09079225361347198, 0.9666666388511658]"
      ]
     },
     "execution_count": 17,
     "metadata": {},
     "output_type": "execute_result"
    }
   ],
   "source": [
    "model.evaluate(test_generator)"
   ]
  },
  {
   "cell_type": "markdown",
   "metadata": {
    "id": "nPTV_BlvBqO2"
   },
   "source": [
    "### Loading model from saved h5 (HDF - Hierarchical Data Format)  file"
   ]
  },
  {
   "cell_type": "code",
   "execution_count": 18,
   "metadata": {
    "id": "jDIhOAgfBgDL"
   },
   "outputs": [],
   "source": [
    "model = load_model(\"covid_detection.h5\")"
   ]
  },
  {
   "cell_type": "code",
   "execution_count": 19,
   "metadata": {
    "id": "Cg6LbiFx-NXz"
   },
   "outputs": [],
   "source": [
    "y_actual = []\n",
    "y_prediction = []"
   ]
  },
  {
   "cell_type": "code",
   "execution_count": 27,
   "metadata": {
    "id": "DI1JavoCAlEe"
   },
   "outputs": [
    {
     "ename": "AttributeError",
     "evalue": "'numpy.ndarray' object has no attribute 'append'",
     "output_type": "error",
     "traceback": [
      "\u001b[0;31m---------------------------------------------------------------------------\u001b[0m",
      "\u001b[0;31mAttributeError\u001b[0m                            Traceback (most recent call last)",
      "\u001b[0;32m<ipython-input-27-85c2731700af>\u001b[0m in \u001b[0;36m<module>\u001b[0;34m\u001b[0m\n\u001b[1;32m      4\u001b[0m     \u001b[0mimg\u001b[0m \u001b[0;34m=\u001b[0m \u001b[0mnp\u001b[0m\u001b[0;34m.\u001b[0m\u001b[0mexpand_dims\u001b[0m\u001b[0;34m(\u001b[0m\u001b[0mimg\u001b[0m\u001b[0;34m,\u001b[0m\u001b[0maxis\u001b[0m\u001b[0;34m=\u001b[0m\u001b[0;36m0\u001b[0m\u001b[0;34m)\u001b[0m\u001b[0;34m\u001b[0m\u001b[0;34m\u001b[0m\u001b[0m\n\u001b[1;32m      5\u001b[0m     \u001b[0mprediction\u001b[0m \u001b[0;34m=\u001b[0m \u001b[0mmodel\u001b[0m\u001b[0;34m.\u001b[0m\u001b[0mpredict\u001b[0m\u001b[0;34m(\u001b[0m\u001b[0mimg\u001b[0m\u001b[0;34m)\u001b[0m\u001b[0;34m\u001b[0m\u001b[0;34m\u001b[0m\u001b[0m\n\u001b[0;32m----> 6\u001b[0;31m     \u001b[0my_prediction\u001b[0m\u001b[0;34m.\u001b[0m\u001b[0mappend\u001b[0m\u001b[0;34m(\u001b[0m\u001b[0mint\u001b[0m\u001b[0;34m(\u001b[0m\u001b[0mprediction\u001b[0m\u001b[0;34m[\u001b[0m\u001b[0;36m0\u001b[0m\u001b[0;34m,\u001b[0m\u001b[0;36m0\u001b[0m\u001b[0;34m]\u001b[0m\u001b[0;34m)\u001b[0m\u001b[0;34m)\u001b[0m\u001b[0;34m\u001b[0m\u001b[0;34m\u001b[0m\u001b[0m\n\u001b[0m\u001b[1;32m      7\u001b[0m     \u001b[0my_actual\u001b[0m\u001b[0;34m.\u001b[0m\u001b[0mappend\u001b[0m\u001b[0;34m(\u001b[0m\u001b[0;36m1\u001b[0m\u001b[0;34m)\u001b[0m\u001b[0;34m\u001b[0m\u001b[0;34m\u001b[0m\u001b[0m\n",
      "\u001b[0;31mAttributeError\u001b[0m: 'numpy.ndarray' object has no attribute 'append'"
     ]
    }
   ],
   "source": [
    "for i in os.listdir(\"./CovidDataset/Val/Normal/\"):\n",
    "    img = image.load_img(\"./CovidDataset/Val/Normal/\"+i , target_size=(224,224))\n",
    "    img = image.img_to_array(img)\n",
    "    img = np.expand_dims(img,axis=0)\n",
    "    prediction = model.predict(img)\n",
    "    y_prediction.append(int(prediction[0,0]))\n",
    "    y_actual.append(1)\n"
   ]
  },
  {
   "cell_type": "code",
   "execution_count": null,
   "metadata": {
    "id": "7dZtrsRWBSs1"
   },
   "outputs": [],
   "source": [
    "for i in os.listdir(\"./CovidDataset/Val/Covid/\"):\n",
    "    img = image.load_img(\"./CovidDataset/Val/Covid/\"+i , target_size=(224,224))\n",
    "    img = image.img_to_array(img)\n",
    "    img = np.expand_dims(img,axis=0)\n",
    "    prediction = model.predict(img)\n",
    "    y_prediction.append(int(prediction[0,0]))\n",
    "    y_actual.append(0)\n"
   ]
  },
  {
   "cell_type": "code",
   "execution_count": 22,
   "metadata": {
    "id": "fJo6FppCS4HI"
   },
   "outputs": [],
   "source": [
    "y_actual = np.array(y_actual)\n",
    "y_prediction = np.array(y_prediction)"
   ]
  },
  {
   "cell_type": "code",
   "execution_count": 23,
   "metadata": {
    "colab": {
     "base_uri": "https://localhost:8080/"
    },
    "id": "MNrVFCE9TWHG",
    "outputId": "e5b520e7-7e24-4711-8a3a-382535da43b9"
   },
   "outputs": [
    {
     "data": {
      "text/plain": [
       "array([1, 1, 1, 1, 1, 0, 1, 1, 1, 1, 1, 1, 1, 0, 1, 1, 1, 1, 1, 1, 1, 1,\n",
       "       1, 1, 1, 1, 1, 1, 1, 1, 0, 0, 0, 0, 0, 0, 0, 0, 0, 0, 0, 0, 0, 0,\n",
       "       0, 0, 0, 0, 0, 0, 0, 0, 0, 0, 0, 0, 0, 0, 0, 0])"
      ]
     },
     "execution_count": 23,
     "metadata": {},
     "output_type": "execute_result"
    }
   ],
   "source": [
    "y_prediction"
   ]
  },
  {
   "cell_type": "code",
   "execution_count": 24,
   "metadata": {
    "id": "VfZVYCThTDjv"
   },
   "outputs": [],
   "source": [
    "confusion_matrix = confusion_matrix(y_actual,y_prediction)"
   ]
  },
  {
   "cell_type": "code",
   "execution_count": 25,
   "metadata": {
    "colab": {
     "base_uri": "https://localhost:8080/",
     "height": 286
    },
    "id": "qge7TRYhTN_X",
    "outputId": "0c98f2ee-3181-47eb-90bf-8d76e4289339"
   },
   "outputs": [
    {
     "data": {
      "text/plain": [
       "<AxesSubplot:>"
      ]
     },
     "execution_count": 25,
     "metadata": {},
     "output_type": "execute_result"
    },
    {
     "data": {
      "image/png": "[encoded data removed]",
      "text/plain": [
       "<Figure size 432x288 with 2 Axes>"
      ]
     },
     "metadata": {
      "needs_background": "light"
     },
     "output_type": "display_data"
    }
   ],
   "source": [
    "sns.heatmap(confusion_matrix,annot=True, xticklabels=['Covid','Normal'], yticklabels=['Covid','Normal'], cmap='Blues')"
   ]
  },
  {
   "cell_type": "code",
   "execution_count": 26,
   "metadata": {
    "id": "JySu-0fLe7bp"
   },
   "outputs": [],
   "source": [
    "model_json = model.to_json()\n",
    "with open(\"model.json\", \"w\") as json_file:\n",
    "    json_file.write(model_json)\n",
    "\n",
    "model.save_weights(\"covid_detection.h5\")"
   ]
  },
  {
   "cell_type": "code",
   "execution_count": null,
   "metadata": {},
   "outputs": [],
   "source": []
  },
  {
   "cell_type": "code",
   "execution_count": null,
   "metadata": {},
   "outputs": [],
   "source": []
  }
 ],
 "metadata": {
  "accelerator": "TPU",
  "colab": {
   "collapsed_sections": [],
   "name": "Covid Detection.ipynb",
   "provenance": []
  },
  "kernelspec": {
   "display_name": "Python 3",
   "language": "python",
   "name": "python3"
  },
  "language_info": {
   "codemirror_mode": {
    "name": "ipython",
    "version": 3
   },
   "file_extension": ".py",
   "mimetype": "text/x-python",
   "name": "python",
   "nbconvert_exporter": "python",
   "pygments_lexer": "ipython3",
   "version": "3.8.8"
  }
 },
 "nbformat": 4,
 "nbformat_minor": 1
}
